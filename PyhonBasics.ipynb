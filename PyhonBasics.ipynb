{
 "cells": [
  {
   "attachments": {},
   "cell_type": "markdown",
   "metadata": {},
   "source": [
    "# This notebook here is about basics of python. "
   ]
  },
  {
   "cell_type": "code",
   "execution_count": 1,
   "metadata": {},
   "outputs": [
    {
     "name": "stdout",
     "output_type": "stream",
     "text": [
      "The number of children in that town is 117578\n"
     ]
    }
   ],
   "source": [
    "# The population of a town is 198568. Out of them 45312 are men and 35678 are women. Find the number of children in the town.\n",
    "\n",
    "population = 198568\n",
    "men = 45312\n",
    "women = 35678\n",
    "\n",
    "# finding the number of children\n",
    "children = population - (men+women)\n",
    "print('The number of children in that town is',children)"
   ]
  },
  {
   "cell_type": "code",
   "execution_count": 2,
   "metadata": {},
   "outputs": [
    {
     "name": "stdout",
     "output_type": "stream",
     "text": [
      "Total pencils the shopkeeper have 58200\n"
     ]
    }
   ],
   "source": [
    "# A shopkeeper has 2425 boxes of 24 pencils each. How many pencils do the boxes have in all?\n",
    "\n",
    "PencilInOne = 24\n",
    "noOfBoxes = 2425\n",
    "\n",
    "Total = PencilInOne * noOfBoxes\n",
    "print(\"Total pencils the shopkeeper have\", Total)"
   ]
  },
  {
   "cell_type": "code",
   "execution_count": 4,
   "metadata": {},
   "outputs": [
    {
     "name": "stdout",
     "output_type": "stream",
     "text": [
      "51.0 students sits in a room\n"
     ]
    }
   ],
   "source": [
    "# There are 86 rooms in a school. 4386 students study there. Equal number of students sits in each room?\n",
    "\n",
    "noOfRooms = 86 \n",
    "noOfStudents = 4386 \n",
    "\n",
    "studentsEach = noOfStudents / noOfRooms\n",
    "print(studentsEach,'students sits in a room')"
   ]
  },
  {
   "cell_type": "code",
   "execution_count": 7,
   "metadata": {},
   "outputs": [
    {
     "name": "stdout",
     "output_type": "stream",
     "text": [
      "False\n",
      "True\n",
      "False\n",
      "True\n",
      "False\n",
      "True\n"
     ]
    }
   ],
   "source": [
    "myFavNo = 5\n",
    "anotherNo = 9 \n",
    "\n",
    "#Comparing using Conditional operator\n",
    "print(myFavNo == anotherNo)\n",
    "print(myFavNo != anotherNo)\n",
    "print(myFavNo > anotherNo)\n",
    "print(myFavNo < anotherNo)\n",
    "print(myFavNo >= anotherNo)\n",
    "print(myFavNo <= anotherNo)"
   ]
  },
  {
   "cell_type": "code",
   "execution_count": 10,
   "metadata": {},
   "outputs": [
    {
     "name": "stdout",
     "output_type": "stream",
     "text": [
      "Logical AND\n",
      "True\n",
      "False\n",
      "False\n",
      "False\n",
      "Logical OR\n",
      "True\n",
      "True\n",
      "True\n",
      "False\n",
      "Logical NOT\n"
     ]
    },
    {
     "data": {
      "text/plain": [
       "True"
      ]
     },
     "execution_count": 10,
     "metadata": {},
     "output_type": "execute_result"
    }
   ],
   "source": [
    "# Conditional operator with logical operator\n",
    "\n",
    "print('Logical AND')\n",
    "print(myFavNo != anotherNo and myFavNo < anotherNo)\n",
    "print(myFavNo != anotherNo and myFavNo > anotherNo)\n",
    "print(myFavNo > anotherNo and myFavNo < anotherNo)\n",
    "print(myFavNo >= anotherNo and myFavNo == anotherNo)\n",
    "\n",
    "print('Logical OR')\n",
    "print(myFavNo != anotherNo or myFavNo < anotherNo)\n",
    "print(myFavNo != anotherNo or myFavNo > anotherNo)\n",
    "print(myFavNo > anotherNo or myFavNo < anotherNo)\n",
    "print(myFavNo >= anotherNo or myFavNo == anotherNo)\n",
    "\n",
    "print('Logical NOT')\n",
    "not(False)"
   ]
  },
  {
   "cell_type": "code",
   "execution_count": 11,
   "metadata": {},
   "outputs": [
    {
     "name": "stdout",
     "output_type": "stream",
     "text": [
      "5\n"
     ]
    }
   ],
   "source": [
    "# Ternary operator\n",
    "a = 5\n",
    "b = 7\n",
    "print(a if a<b else b)"
   ]
  },
  {
   "cell_type": "code",
   "execution_count": 13,
   "metadata": {},
   "outputs": [
    {
     "name": "stdout",
     "output_type": "stream",
     "text": [
      "<class 'int'>\n",
      "<class 'float'>\n",
      "<class 'bool'>\n",
      "<class 'NoneType'>\n",
      "<class 'str'>\n",
      "<class 'list'>\n",
      "<class 'tuple'>\n",
      "<class 'dict'>\n"
     ]
    }
   ],
   "source": [
    "var = 3 \n",
    "print(type(var))\n",
    "var1 = 3.28\n",
    "print(type(var1))\n",
    "var2 = True\n",
    "print(type(var2))\n",
    "var3 = None\n",
    "print(type(var3))\n",
    "var4 = 'name'\n",
    "print(type(var4))\n",
    "var5 = [1, 'saw', None, 3]\n",
    "print(type(var5))\n",
    "var6 = (1, 'war', True, 4)\n",
    "print(type(var6))\n",
    "var7 = dict(name='rabby', age=24, blood='O+ve')\n",
    "print(type(var7))"
   ]
  },
  {
   "cell_type": "code",
   "execution_count": 14,
   "metadata": {},
   "outputs": [
    {
     "name": "stdout",
     "output_type": "stream",
     "text": [
      "16\n",
      "llo\n",
      "True\n",
      "False\n",
      "Hello i am rabby\n",
      "hello i am rabby\n",
      "HELLO I AM RABBY\n",
      "2\n"
     ]
    }
   ],
   "source": [
    "# Functions and Methods of string\n",
    "\n",
    "string = 'Hello i am Rabby'\n",
    "print(len(string))\n",
    "\n",
    "print(string[2:5])\n",
    "\n",
    "print('am' in string)\n",
    "\n",
    "print('abdullah' > 'ayesha')\n",
    "\n",
    "print(string.capitalize())\n",
    "print(string.lower())\n",
    "print(string.upper())\n",
    "print(string.count('l'))\n"
   ]
  },
  {
   "cell_type": "code",
   "execution_count": 17,
   "metadata": {},
   "outputs": [
    {
     "name": "stdout",
     "output_type": "stream",
     "text": [
      "If a grocery store sells ice bags at $ 1.25 per bag, with a profit margin of 20.0 %, \n",
      "then the total profit it makes by selling 500 ice bags is $ 125.0.\n"
     ]
    }
   ],
   "source": [
    "# Input variables\n",
    "cost_of_ice_bag = 1.25\n",
    "profit_margin = .2\n",
    "number_of_bags = 500\n",
    "\n",
    "# Template for output message\n",
    "output_template = \"\"\"If a grocery store sells ice bags at $ {} per bag, with a profit margin of {} %, \n",
    "then the total profit it makes by selling {} ice bags is $ {}.\"\"\"\n",
    "\n",
    "total_profit = cost_of_ice_bag * profit_margin * number_of_bags\n",
    "output_message = output_template.format(cost_of_ice_bag, profit_margin*100, number_of_bags, total_profit)\n",
    "\n",
    "print(output_message)"
   ]
  },
  {
   "cell_type": "code",
   "execution_count": null,
   "metadata": {},
   "outputs": [],
   "source": []
  }
 ],
 "metadata": {
  "kernelspec": {
   "display_name": "Python 3",
   "language": "python",
   "name": "python3"
  },
  "language_info": {
   "codemirror_mode": {
    "name": "ipython",
    "version": 3
   },
   "file_extension": ".py",
   "mimetype": "text/x-python",
   "name": "python",
   "nbconvert_exporter": "python",
   "pygments_lexer": "ipython3",
   "version": "3.7.3"
  },
  "orig_nbformat": 4
 },
 "nbformat": 4,
 "nbformat_minor": 2
}
